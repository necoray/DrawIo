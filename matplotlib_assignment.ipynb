{
  "cells": [
    {
      "cell_type": "markdown",
      "metadata": {
        "id": "tJNGgVFnx-ER"
      },
      "source": [
        "# Основы машинного обучения: лабораторная работа №1\n",
        "## Задание 2. Знакомство с Matplotlib и LaTeX\n",
        "\n",
        "В этом задании по номеру варианта задана параметризованная математическая функция. Необходимо её оценить и визуализировать на графике с помощью Python.\n",
        "\n",
        "### Цель\n",
        "\n",
        "Научиться выполнять базовые математические операции с помощью `numpy` и визуализировать результаты с помощью `matplotlib`\n",
        "\n",
        "### Оценивание и баллы\n",
        "\n",
        "За это задание в общей сложности можно получить до 2 баллов. Задание частично проверяется автоматически, а частично будет оцениваться вручную. Чтобы получить максимальный балл,  необходимо успешно выполнить приведенные ниже задачи."
      ]
    },
    {
      "cell_type": "markdown",
      "metadata": {
        "id": "FsAdjy7_x-ES"
      },
      "source": [
        "## Часть 1. Определить номер варианта\n",
        "\n",
        "Начнем с импорта библиотеки `numpy`. Она понадобится позже для выполнения некоторых математических операций. Также потребуется библиотека `matplotlib.pyplot`, чтобы визуализировать результаты вычислений."
      ]
    },
    {
      "cell_type": "code",
      "execution_count": null,
      "metadata": {
        "id": "7DXQMvQ-x-ES"
      },
      "outputs": [],
      "source": [
        "import numpy as np\n",
        "from matplotlib import pyplot as plt"
      ]
    },
    {
      "cell_type": "markdown",
      "metadata": {
        "id": "Eq_OsjWVx-ET"
      },
      "source": [
        "Перейдите по ссылке из личного кабинета на Google Таблицу со списком студентов. Найдите свое ФИО в списке и запомните соответствующий порядковый номер (поле `№ п/п`) в первом столбце. Заполните его в ячейке ниже и выполните ячейку. Если вы не можете найти себя в списке, обратитесь к преподавателю, принимающему лабораторные работы."
      ]
    },
    {
      "cell_type": "code",
      "execution_count": null,
      "metadata": {
        "id": "4qLWOZzXx-ET"
      },
      "outputs": [],
      "source": [
        "### BEGIN YOUR CODE\n",
        "\n",
        "Student_ID = 4\n",
        "\n",
        "### END YOUR CODE"
      ]
    },
    {
      "cell_type": "markdown",
      "metadata": {
        "id": "_legwL3Hx-ET"
      },
      "source": [
        "Теперь выполните следующую ячейку. Она вычислит номер задания и выведет его."
      ]
    },
    {
      "cell_type": "code",
      "execution_count": null,
      "metadata": {
        "id": "aPWCvfRKx-ET",
        "outputId": "c5dc7c10-39ed-49ce-d06f-a57701c3c4f1",
        "colab": {
          "base_uri": "https://localhost:8080/"
        }
      },
      "outputs": [
        {
          "output_type": "stream",
          "name": "stdout",
          "text": [
            "Пожалуйста, используйте математическую функцию No 4 ниже.\n"
          ]
        }
      ],
      "source": [
        "task_id = None if Student_ID is None else Student_ID % 25 if Student_ID % 25 > 0 else 25\n",
        "print(f\"Пожалуйста, используйте математическую функцию No {task_id} ниже.\")"
      ]
    },
    {
      "cell_type": "markdown",
      "metadata": {
        "id": "E25v04_Ux-ET"
      },
      "source": [
        "![mathematical_functions.png](https://github.com/hse-mlwp-2022/assignment2-template/raw/main/mathematical_functions.png)"
      ]
    },
    {
      "cell_type": "markdown",
      "metadata": {
        "id": "hA2cIR4Nx-ET"
      },
      "source": [
        "В списке математических функций, представленных выше, $y$, или, более корректно, $y(x)$, является зависимой переменной, полученной в результате вычисления математической функции. $a$, $b$, $c$, $d$ — это скалярные параметры функции, а $x$ — независимая переменная.\n",
        "\n",
        "Теперь, когда функция выбрана, запишите её в ячейке ниже, используя LaTeX, и выполните ячейку, чтобы отобразить её."
      ]
    },
    {
      "cell_type": "markdown",
      "source": [],
      "metadata": {
        "id": "M8NfaC1czfKa"
      }
    },
    {
      "cell_type": "markdown",
      "metadata": {
        "id": "8qwF-qWMx-EU"
      },
      "source": [
        "$$ y = a \\ln(b + cx) $$"
      ]
    },
    {
      "cell_type": "markdown",
      "source": [],
      "metadata": {
        "id": "dSHyziVe7Stg"
      }
    },
    {
      "cell_type": "markdown",
      "metadata": {
        "id": "6CzbF-c7x-EU"
      },
      "source": [
        "## Часть 2. Вычисления в Python\n",
        "\n",
        "Напишите функцию на Python, которая вычисляет математическую функцию $y(x)$ с заданными скалярными параметрами $a$, $b$, $c$, $d$ (если применимо) и списком значений независимой переменной $x$. Найти математические функции, доступные в библиотеке `numpy`, можно [здесь](https://numpy.org/doc/stable/reference/routines.math.html).\n",
        "\n",
        "Пример для функции $y(x) = a \\sin^2x + b\\log_cx$ может выглядеть так:\n",
        "```python\n",
        "def my_function(x,a,b,c,d):\n",
        "    return a * np.sin(x) ** 2 + b * np.log(x) / np.log(c)\n",
        "```"
      ]
    },
    {
      "cell_type": "code",
      "execution_count": null,
      "metadata": {
        "id": "o22ISwssx-EU"
      },
      "outputs": [],
      "source": [
        "def my_function(x,a,b,c):\n",
        "  ### BEGIN YOUR CODE\n",
        "  return a* np.log(b + c*x)\n",
        "  ### END YOUR CODE"
      ]
    },
    {
      "cell_type": "markdown",
      "metadata": {
        "id": "eIm5IeUBx-EU"
      },
      "source": [
        "Задайте значения для параметров $a$, $b$, $c$, $d$ и укажите диапазон для переменной $x$:"
      ]
    },
    {
      "cell_type": "code",
      "execution_count": null,
      "metadata": {
        "id": "sMSXq5-mx-EU"
      },
      "outputs": [],
      "source": [
        "### BEGIN YOUR CODE\n",
        "\n",
        "a = 2\n",
        "b = 2\n",
        "c = 2\n",
        "# d = 2\n",
        "x = np.linspace(0, 10, 100)\n",
        "\n",
        "### END YOUR CODE"
      ]
    },
    {
      "cell_type": "markdown",
      "metadata": {
        "id": "36W_WQ41x-EU"
      },
      "source": [
        "Вычислите значения функции $y(x)$ на интервале `x`. Необходимо сделать это векторно и без использования циклов. Постройте график функции. Измените значения параметров $a$, $b$, $c$, $d$ и $x$ в ячейке выше, чтобы получить аккуратный, понятный и красивый график."
      ]
    },
    {
      "cell_type": "code",
      "execution_count": null,
      "metadata": {
        "id": "3aEsd5JPx-EU",
        "outputId": "0daac975-6bb2-4f40-facd-ed2a71755233",
        "colab": {
          "base_uri": "https://localhost:8080/",
          "height": 500
        }
      },
      "outputs": [
        {
          "output_type": "display_data",
          "data": {
            "text/plain": [
              "<Figure size 640x480 with 1 Axes>"
            ],
            "image/png": "[encoded data removed]"
          },
          "metadata": {}
        }
      ],
      "source": [
        "### BEGIN YOUR CODE\n",
        "\n",
        "y = my_function(x, a, b, c)\n",
        "\n",
        "plt.plot(x, y)\n",
        "plt.xlabel('x')\n",
        "plt.ylabel('y')\n",
        "\n",
        "# Полный диапазон y\n",
        "y_min, y_max = np.min(y), np.max(y)\n",
        "y_range = y_max - y_min\n",
        "\n",
        "# 10% и 90% уровни\n",
        "y10_val = y_min + 0.1 * y_range\n",
        "y90_val = y_min + 0.9 * y_range\n",
        "\n",
        "# Соответствующие значения x (первое пересечение)\n",
        "x10 = x[np.where(y >= y10_val)[0][0]]\n",
        "x90 = x[np.where(y >= y90_val)[0][0]]\n",
        "\n",
        "# Диапазоны\n",
        "x_range_10_90 = x90 - x10\n",
        "y_range_10_90 = y90_val - y10_val\n",
        "\n",
        "# Визуализация\n",
        "plt.axvline(x=x10, color='r', linestyle='--', alpha=0.7)\n",
        "plt.axvline(x=x90, color='r', linestyle='--', alpha=0.7)\n",
        "plt.axhline(y=y10_val, color='g', linestyle='--', alpha=0.7)\n",
        "plt.axhline(y=y90_val, color='g', linestyle='--', alpha=0.7)\n",
        "\n",
        "# Подписи с диапазонами\n",
        "plt.text(x10, plt.ylim()[0], f'x10={x10:.2f}\\nΔx={x_range_10_90:.2f}',\n",
        "         color='r', ha='center', va='top')\n",
        "plt.text(x90, plt.ylim()[1], f'x90={x90:.2f}',\n",
        "         color='r', ha='center', va='bottom')\n",
        "plt.text(plt.xlim()[0], y10_val, f'y10={y10_val:.2f}\\nΔy={y_range_10_90:.2f}',\n",
        "         color='g', ha='right', va='center')\n",
        "plt.text(plt.xlim()[1], y90_val, f'y90={y90_val:.2f}',\n",
        "         color='g', ha='left', va='center')\n",
        "\n",
        "# Область 10-90%\n",
        "plt.fill_between(x, y10_val, y90_val, (y >= y10_val) & (y <= y90_val),\n",
        "                color='blue', alpha=0.1)\n",
        "\n",
        "# Инфо панель\n",
        "info_text = (f\"10-90% Range:\\n\"\n",
        "             f\"X: {x_range_10_90:.2f} ({x10:.2f} to {x90:.2f})\\n\"\n",
        "             f\"Y: {y_range_10_90:.2f} ({y10_val:.2f} to {y90_val:.2f})\")\n",
        "plt.figtext(0.5, 0.01, info_text, ha=\"center\", fontsize=10,\n",
        "           bbox={\"facecolor\":\"white\", \"alpha\":0.7, \"pad\":5})\n",
        "\n",
        "plt.grid(True)\n",
        "plt.tight_layout()\n",
        "### END YOUR CODE"
      ]
    },
    {
      "cell_type": "markdown",
      "metadata": {
        "id": "GqAhKORfx-EV"
      },
      "source": [
        "### Кастомизируйте свой график\n",
        "\n",
        "Настройте внешний вид рисунка в ячейке выше. Измените цвет графика функции (например, задайте его красным), обновите стиль линии (например, нарисуйте пунктирную линию или штрих-пунктир), добавьте подписи, метки и так далее. Ознакомьтесь с [документацией](https://matplotlib.org/stable/api/_as_gen/matplotlib.pyplot.plot.html) для получения дополнительных сведений. Попробуйте разместить несколько графиков с разными наборами значений параметров $a$, $b$, $c$, $d$ на одном рисунке, используя `subplot`. Посмотрите примеры из официального [руководства](https://matplotlib.org/stable/tutorials/index.html) для вдохновения."
      ]
    },
    {
      "cell_type": "markdown",
      "metadata": {
        "id": "ZJY19YU9x-EV"
      },
      "source": [
        "## Часть 3. Линейная алгебра в Python\n",
        "\n",
        "Вычислите скалярное произведение двух векторов `vector_a` и `vector_b`, заданных в ячейке с кодом ниже. Результат поместите в переменную `dot_product`."
      ]
    },
    {
      "cell_type": "code",
      "execution_count": null,
      "metadata": {
        "id": "x3iViugTx-EV",
        "outputId": "c24e1339-1eb9-4676-ca7c-79ecb61cf9a4",
        "colab": {
          "base_uri": "https://localhost:8080/"
        }
      },
      "outputs": [
        {
          "output_type": "stream",
          "name": "stdout",
          "text": [
            "Вектор A: [[20 10 96 16 63]]\n",
            "Вектор B: [[33]\n",
            " [88]\n",
            " [96]\n",
            " [21]\n",
            " [56]]\n",
            "Cкалярное произведение <A, B>=[[14620]]\n"
          ]
        }
      ],
      "source": [
        "rng = np.random.RandomState(Student_ID)\n",
        "vector_a = rng.choice(np.arange(100, dtype=np.int32), size=(1,5), replace=False)\n",
        "vector_b = rng.choice(np.arange(100, dtype=np.int32), size=(5,1), replace=False)\n",
        "\n",
        "### BEGIN YOUR CODE\n",
        "\n",
        "dot_product = np.dot(vector_a, vector_b)\n",
        "\n",
        "### END YOUR CODE\n",
        "\n",
        "print(f'Вектор A: {vector_a}\\nВектор B: {vector_b}\\nCкалярное произведение <A, B>={dot_product}')"
      ]
    },
    {
      "cell_type": "markdown",
      "metadata": {
        "id": "_Yr2LVtex-EV"
      },
      "source": [
        "### Оценивание работы\n",
        "\n",
        "За заполнение расположенных выше ячеек можно получить:\n",
        "- максимум 0.5 балла за корректно заполненную ячейку с математической функцией, набранной с помощью LaTeX;\n",
        "- максимум 0.5 балла за корректно работающий код во всех ячейках с кодом;\n",
        "- максимум 1 балл за создание графика с внешним видом \"не по умолчанию\"."
      ]
    },
    {
      "cell_type": "code",
      "execution_count": null,
      "metadata": {
        "id": "sXLijbJ-x-EV"
      },
      "outputs": [],
      "source": []
    }
  ],
  "metadata": {
    "kernelspec": {
      "display_name": "Python [conda env:base] *",
      "language": "python",
      "name": "conda-base-py"
    },
    "language_info": {
      "codemirror_mode": {
        "name": "ipython",
        "version": 3
      },
      "file_extension": ".py",
      "mimetype": "text/x-python",
      "name": "python",
      "nbconvert_exporter": "python",
      "pygments_lexer": "ipython3",
      "version": "3.12.7"
    },
    "colab": {
      "provenance": []
    }
  },
  "nbformat": 4,
  "nbformat_minor": 0
}